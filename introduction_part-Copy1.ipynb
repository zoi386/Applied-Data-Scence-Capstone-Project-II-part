{
 "cells": [
  {
   "cell_type": "markdown",
   "metadata": {},
   "source": [
    "<h1 align = center><font size = 6>APPLIED DATA SCIENCE CAPSTONE PROJECT</font></h1>\n",
    "<h3 align = center>(WEEK 1)</h3>\n"
   ]
  },
  {
   "cell_type": "markdown",
   "metadata": {},
   "source": [
    "<h1 align = center>Record of Protected Structures</h1>\n",
    "<h2 align = center>Galway County Ireland</h2>"
   ]
  },
  {
   "cell_type": "markdown",
   "metadata": {},
   "source": [
    "Data:\n",
    "[Published by: Galway County Council](https://data.gov.ie/organization/galway-county-council)\n",
    "[Licensed under: Creative Commons Attribution 4.0](https://creativecommons.org/licenses/by/4.0/)"
   ]
  },
  {
   "cell_type": "markdown",
   "metadata": {},
   "source": [
    "### Introduction \n",
    "A protected structure is a structure that the Planning Authority considers to be of special interest from an architectural, historical, archaeological, artistic, cultural, scientific, social or technical point of view. The Planning Authority in its Record of Protected Structures (RPS) includes details of protected structures.A Record of Protected Structures is the record included in a Development Plan, correct at the time of publication. It may be amended by the addition or deletion of entries independently of the Development Plan review process.[source](https://data.gov.ie/dataset/record-of-protected-structures1/resource/de1217cb-5c97-434c-8b05-2114967f642c)"
   ]
  },
  {
   "cell_type": "markdown",
   "metadata": {},
   "source": [
    "As it was clearly stated in first paragraph **'Protected structures' are considered to be of special interest** for local goverment and comunity. They have architectural, historical, archeological, artistic, cultural, scientific, social or technical value. These structures in futher text I will call *Cultural heritages*. \n",
    "According to [WIKIPEDIA](https://en.wikipedia.org/wiki/Cultural_heritage)  '*Cultural heritage* is the legacy of physical artifacts and intangible attributes of a group or society that is inherited from past generations. Not all legacies of past generations are \"heritage\", rather heritage is a product of selection by society.'"
   ]
  },
  {
   "cell_type": "markdown",
   "metadata": {},
   "source": [
    "As such these Structeres does not just represent rich history and cultural achievements of one nation, group of people or single person, they also inform us about lot of aspects of life from one time, interconnectivity, influence from other nations, struggle one been through. They are keepers of one nation past and history but also enrichment for others.\n",
    "In todays societies in time of globalisation, will of one to get know better others is highly valuated. These needs 'to get know and see others',  that are common to all human beings, are primarly satisfied through traveling. **Tourism** is highly appreciated brunch of industry of any country. It brings ravenue but is also beneficial for other industries such as agriculture, small local retail shops, hotels, restaurants museums and other so called tertiary activities. \n",
    "It has its bad sides as well, such as overcrowding, waste and noise and it should be addressed properly by responible such as Tourist agencies and domestic governments in order to minimase these negative impacts on local comunities as well as tourists. \n"
   ]
  },
  {
   "cell_type": "markdown",
   "metadata": {},
   "source": [
    "**Ireland** is beautiful green island in the North Atlantic Ocean. It is divided on Republic of Ireland and Northern Ireland which is part of United Kingdom. It is noted for a rich cultural heritage and tradition that is mainly linked to Gaelic language. Ireland is home for 6.4 million people. The island is considered 20-th largest in the world and encompasses 84.421 squared kilometres.\n",
    "\n",
    "- It is home to numerous castles,\n",
    "- Irish people speak English but also Irish which is Gaelic language,\n",
    "- St. Patrick is worldwide known Irish saint,\n",
    "- Shamrock ☘ and leprechauns are integral and well known part of Irish tradition,\n",
    "- Guinness beer best known Irish beer in world,\n",
    "- It has oldest known pab 900 years old,\n",
    "- Ireland has been inhabited aproximately 7000 years,\n",
    "are some of interesant facts about Ireland. [source](https://nationfacts.net/ireland-facts/)"
   ]
  },
  {
   "cell_type": "markdown",
   "metadata": {},
   "source": [
    "### Problem\n",
    "Apart from well known and worldwide recognized cultural, natural and historical treasuries of Ireland, that bring every year a numerous tourists from around the world, ther is a question how much of these are still hiden, or properly represented and offered as tourist attractions. \n",
    "In this notebook I will try to give an answer to this question for Galway County.\n",
    "I will go through Record of Protected Structurs in Galway County Ireland in order to see how much of them are still in use and their impact on local Toursm. "
   ]
  },
  {
   "cell_type": "markdown",
   "metadata": {},
   "source": [
    "### Data acquisition and preparing"
   ]
  },
  {
   "cell_type": "markdown",
   "metadata": {},
   "source": [
    "Data that will be used in this project are acquired from [Ireland's open data portal](https://data.gov.ie/). It holds more than 10000 dataset's divided between different sectors. \n",
    "    Data set used in this project contain information  about protected structures in Galway County provided by Galway Count Council. Information such as name and type of structure, address, geocordinates, date and identification number, current use, description, apprisal are ready to use.\n",
    "    In order to extract and provide answer on acctual treatment and inclusion in today tourist prospects of Galaway county they need to be slightly cleand, and prepared for further use. \n",
    "    This means that some columns for this project was not be needad some have to be combined with different sources such as Foursquare app. \n",
    "    Complete data set can be find [here](https://data.gov.ie/dataset/record-of-protected-structures1)"
   ]
  }
 ],
 "metadata": {
  "kernelspec": {
   "display_name": "Python 3",
   "language": "python",
   "name": "python3"
  },
  "language_info": {
   "codemirror_mode": {
    "name": "ipython",
    "version": 3
   },
   "file_extension": ".py",
   "mimetype": "text/x-python",
   "name": "python",
   "nbconvert_exporter": "python",
   "pygments_lexer": "ipython3",
   "version": "3.7.3"
  }
 },
 "nbformat": 4,
 "nbformat_minor": 2
}
